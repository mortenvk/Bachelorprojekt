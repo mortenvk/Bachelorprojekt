{
 "cells": [
  {
   "cell_type": "code",
   "execution_count": 36,
   "metadata": {},
   "outputs": [],
   "source": [
    "import numpy as np\n",
    "import numba\n",
    "import random\n",
    "import time\n"
   ]
  },
  {
   "cell_type": "code",
   "execution_count": 37,
   "metadata": {},
   "outputs": [],
   "source": [
    "arr = np.zeros((1000,1000))\n",
    "def loops ():   \n",
    "    for i in range(1000-1):\n",
    "        for j in range(1000-1):\n",
    "            arr[i,j] = np.random.randint(1,200)\n",
    "    return arr\n"
   ]
  },
  {
   "cell_type": "code",
   "execution_count": 38,
   "metadata": {},
   "outputs": [],
   "source": [
    "arr2 = np.zeros((1000,1000))\n",
    "def jit_loops ():   \n",
    "    for i in range(1000-1):\n",
    "        for j in range(1000-1):\n",
    "            arr2[i,j] = np.random.randint(1,200)\n",
    "\n",
    "            "
   ]
  },
  {
   "cell_type": "code",
   "execution_count": 39,
   "metadata": {},
   "outputs": [],
   "source": [
    "def regne(x):\n",
    "    for i in range(len(x)):\n",
    "        for j in range(len(x)):\n",
    "            x[i,j] = x[i,j]*3+4\n",
    "    return x"
   ]
  },
  {
   "cell_type": "code",
   "execution_count": 40,
   "metadata": {},
   "outputs": [],
   "source": [
    "@numba.jit\n",
    "def regnejit(x):\n",
    "    for i in range(len(x)):\n",
    "        for j in range(len(x)):\n",
    "            x[i,j] = x[i,j]*3+4\n",
    "    return x"
   ]
  },
  {
   "cell_type": "code",
   "execution_count": 47,
   "metadata": {},
   "outputs": [
    {
     "name": "stdout",
     "output_type": "stream",
     "text": [
      "diff: 0.8948359070000151\n"
     ]
    }
   ],
   "source": [
    "ny = loops()\n",
    "before = time.perf_counter()\n",
    "regne(ny)\n",
    "after = time.perf_counter()\n",
    "print('diff:', after-before)\n",
    "\n"
   ]
  },
  {
   "cell_type": "code",
   "execution_count": 45,
   "metadata": {},
   "outputs": [
    {
     "name": "stdout",
     "output_type": "stream",
     "text": [
      "diff: 0.0011467269999911878\n"
     ]
    }
   ],
   "source": [
    "ny2 = loops()\n",
    "before = time.perf_counter()\n",
    "regnejit(ny2)\n",
    "after = time.perf_counter()\n",
    "print('diff:', after-before)"
   ]
  },
  {
   "cell_type": "code",
   "execution_count": 43,
   "metadata": {},
   "outputs": [
    {
     "name": "stdout",
     "output_type": "stream",
     "text": [
      "[[493. 523. 148. ...  85. 589.  16.]\n",
      " [451. 154. 403. ... 265. 334.  16.]\n",
      " [589. 247. 166. ... 208. 415.  16.]\n",
      " ...\n",
      " [589. 112. 499. ... 454. 478.  16.]\n",
      " [535. 451. 127. ... 448. 412.  16.]\n",
      " [ 16.  16.  16. ...  16.  16.  16.]]\n"
     ]
    }
   ],
   "source": [
    "print(arr)\n"
   ]
  },
  {
   "cell_type": "code",
   "execution_count": null,
   "metadata": {},
   "outputs": [],
   "source": []
  }
 ],
 "metadata": {
  "interpreter": {
   "hash": "1c705d6c6d1335d007f47195c97726d25b9cc8fddf768e9079a1ba460f1b509e"
  },
  "kernelspec": {
   "display_name": "Python 3.9.4 ('base')",
   "language": "python",
   "name": "python3"
  },
  "language_info": {
   "codemirror_mode": {
    "name": "ipython",
    "version": 3
   },
   "file_extension": ".py",
   "mimetype": "text/x-python",
   "name": "python",
   "nbconvert_exporter": "python",
   "pygments_lexer": "ipython3",
   "version": "3.9.4"
  },
  "orig_nbformat": 4
 },
 "nbformat": 4,
 "nbformat_minor": 2
}
